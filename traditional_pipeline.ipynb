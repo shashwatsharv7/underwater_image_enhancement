{
 "cells": [
  {
   "cell_type": "code",
   "execution_count": 7,
   "metadata": {},
   "outputs": [],
   "source": [
    "import cv2\n",
    "import numpy as np\n",
    "import matplotlib.pyplot as plt\n",
    "import os"
   ]
  },
  {
   "cell_type": "code",
   "execution_count": 2,
   "metadata": {},
   "outputs": [],
   "source": [
    "def preprocess(image_path):\n",
    "    # Read and normalize image\n",
    "    image = cv2.imread(image_path)\n",
    "    image = cv2.resize(image, (256,256))\n",
    "    image = cv2.cvtColor(image, cv2.COLOR_BGR2RGB)\n",
    "    return image/255.0 # Normalize to [0,1]"
   ]
  },
  {
   "cell_type": "code",
   "execution_count": null,
   "metadata": {},
   "outputs": [],
   "source": [
    "def trimmed_median_filter(image, window_size=3, d=2):\n",
    "    # Reduce salt-and-pepper noise\n",
    "    padded = cv2.copyMakeBorder(image, d, d, d, d, cv2.BORDER_REFLECT)\n",
    "    filtered = cv2.medianBlur(padded, window_size)\n",
    "    return filtered[d:-d, d:-d]"
   ]
  },
  {
   "cell_type": "code",
   "execution_count": 4,
   "metadata": {},
   "outputs": [],
   "source": [
    "# Colore corection using gray world algorithm\n",
    "def gray_world_balance(image):\n",
    "    avg = np.mean(image, axis=(0,1))\n",
    "    gray = np.mean(avg)\n",
    "    scale = gray/avg\n",
    "    return np.clip(image * scale, 0, 1)"
   ]
  },
  {
   "cell_type": "code",
   "execution_count": 5,
   "metadata": {},
   "outputs": [],
   "source": [
    "# Contrast Enhancement using CLAHE\n",
    "def apply_clahe(image):\n",
    "    lab = cv2.cvtColor(image, cv2.COLOR_RGB2LAB)\n",
    "    l, a, b = cv2.split(lab)\n",
    "    clahe = cv2.createClahe(clipLimit=2.0, tileGridSize=(8,8))\n",
    "    cl = clahe.apply((l*255).astype(np.uint8))/255.0\n",
    "    lab = cv2.merge((cl,a,b))\n",
    "    return cv2.cvtColor(lab, cv2.COLOR_LAB2RGB)"
   ]
  },
  {
   "cell_type": "code",
   "execution_count": 6,
   "metadata": {},
   "outputs": [],
   "source": [
    "# Haze Removal using Laplacian Decomposition\n",
    "def laplacian_haze_removal(image):\n",
    "    gray = cv2.cvtColor(image, cv2.COLOR_RGB2GRAY)\n",
    "    laplacian = cv2.Laplacian(gray, cv2.CV_64F)\n",
    "    laplacian = cv2.normalize(laplacian, None, 0, 1, cv2.NORM_MINMAX)\n",
    "    enhanced = image - laplacian[..., np.newaxis] * 0.5  # Adjust haze strength\n",
    "    return np.clip(enhanced, 0, 1)"
   ]
  },
  {
   "cell_type": "code",
   "execution_count": 8,
   "metadata": {},
   "outputs": [
    {
     "ename": "error",
     "evalue": "OpenCV(4.6.0) /private/var/folders/k1/30mswbxs7r1g6zwn8y4fyt500000gp/T/abs_11nitadzeg/croot/opencv-suite_1691620374638/work/modules/imgproc/src/median_blur.simd.hpp:975: error: (-210:Unsupported format or combination of formats)  in function 'medianBlur'\n",
     "output_type": "error",
     "traceback": [
      "\u001b[0;31m---------------------------------------------------------------------------\u001b[0m",
      "\u001b[0;31merror\u001b[0m                                     Traceback (most recent call last)",
      "Cell \u001b[0;32mIn[8], line 3\u001b[0m\n\u001b[1;32m      1\u001b[0m \u001b[38;5;66;03m# Example usage\u001b[39;00m\n\u001b[1;32m      2\u001b[0m image \u001b[38;5;241m=\u001b[39m preprocess(\u001b[38;5;124m\"\u001b[39m\u001b[38;5;124mdataset/Paired/underwater_imagenet/trainA/n01496331_49.jpg\u001b[39m\u001b[38;5;124m\"\u001b[39m)\n\u001b[0;32m----> 3\u001b[0m filtered \u001b[38;5;241m=\u001b[39m \u001b[43mtrimmed_median_filter\u001b[49m\u001b[43m(\u001b[49m\u001b[43mimage\u001b[49m\u001b[43m)\u001b[49m\n\u001b[1;32m      4\u001b[0m color_balanced \u001b[38;5;241m=\u001b[39m gray_world_balance(filtered)\n\u001b[1;32m      5\u001b[0m contrast_enhanced \u001b[38;5;241m=\u001b[39m apply_clahe(color_balanced)\n",
      "Cell \u001b[0;32mIn[3], line 4\u001b[0m, in \u001b[0;36mtrimmed_median_filter\u001b[0;34m(image, window_size, d)\u001b[0m\n\u001b[1;32m      1\u001b[0m \u001b[38;5;28;01mdef\u001b[39;00m \u001b[38;5;21mtrimmed_median_filter\u001b[39m(image, window_size\u001b[38;5;241m=\u001b[39m\u001b[38;5;241m3\u001b[39m, d\u001b[38;5;241m=\u001b[39m\u001b[38;5;241m2\u001b[39m):\n\u001b[1;32m      2\u001b[0m     \u001b[38;5;66;03m#reduce salt and pepper noise\u001b[39;00m\n\u001b[1;32m      3\u001b[0m     padded \u001b[38;5;241m=\u001b[39m cv2\u001b[38;5;241m.\u001b[39mcopyMakeBorder(image, d, d, d, d, cv2\u001b[38;5;241m.\u001b[39mBORDER_REFLECT)\n\u001b[0;32m----> 4\u001b[0m     filtered \u001b[38;5;241m=\u001b[39m \u001b[43mcv2\u001b[49m\u001b[38;5;241;43m.\u001b[39;49m\u001b[43mmedianBlur\u001b[49m\u001b[43m(\u001b[49m\u001b[43mpadded\u001b[49m\u001b[43m,\u001b[49m\u001b[43m \u001b[49m\u001b[43mwindow_size\u001b[49m\u001b[43m)\u001b[49m\n\u001b[1;32m      5\u001b[0m     \u001b[38;5;28;01mreturn\u001b[39;00m filtered[d:\u001b[38;5;241m-\u001b[39md, d:\u001b[38;5;241m-\u001b[39md]\n",
      "\u001b[0;31merror\u001b[0m: OpenCV(4.6.0) /private/var/folders/k1/30mswbxs7r1g6zwn8y4fyt500000gp/T/abs_11nitadzeg/croot/opencv-suite_1691620374638/work/modules/imgproc/src/median_blur.simd.hpp:975: error: (-210:Unsupported format or combination of formats)  in function 'medianBlur'\n"
     ]
    }
   ],
   "source": [
    "# Example usage\n",
    "image = preprocess(\"dataset/Paired/underwater_imagenet/trainA/n01496331_49.jpg\")\n",
    "filtered = trimmed_median_filter(image)\n",
    "color_balanced = gray_world_balance(filtered)\n",
    "contrast_enhanced = apply_clahe(color_balanced)\n",
    "final_image = laplacian_haze_removal(contrast_enhanced)\n",
    "\n",
    "# Plot results\n",
    "fig, axes = plt.subplots(1, 5, figsize=(20, 5))\n",
    "titles = [\"Original\", \"Noise Reduced\", \"Color Balanced\", \"CLAHE\", \"Haze Removed\"]\n",
    "for ax, img, title in zip(axes, [image, filtered, color_balanced, contrast_enhanced, final_image], titles):\n",
    "    ax.imshow(img)\n",
    "    ax.set_title(title)\n",
    "    ax.axis('off')\n",
    "plt.show()"
   ]
  },
  {
   "cell_type": "code",
   "execution_count": null,
   "metadata": {},
   "outputs": [],
   "source": []
  }
 ],
 "metadata": {
  "kernelspec": {
   "display_name": "Python (image_processing)",
   "language": "python",
   "name": "image_processing"
  },
  "language_info": {
   "codemirror_mode": {
    "name": "ipython",
    "version": 3
   },
   "file_extension": ".py",
   "mimetype": "text/x-python",
   "name": "python",
   "nbconvert_exporter": "python",
   "pygments_lexer": "ipython3",
   "version": "3.9.18"
  }
 },
 "nbformat": 4,
 "nbformat_minor": 2
}
