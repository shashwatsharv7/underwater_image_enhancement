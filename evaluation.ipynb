{
 "cells": [
  {
   "cell_type": "code",
   "execution_count": null,
   "metadata": {},
   "outputs": [],
   "source": [
    "from skimage.metrics import peak_signal_noise_ratio as psnr\n",
    "from skimage.metrics import structural_similarity as ssim\n",
    "import numpy as np\n",
    "import nbimporter\n",
    "from traditional_pipeline import preprocess"
   ]
  },
  {
   "cell_type": "code",
   "execution_count": null,
   "metadata": {},
   "outputs": [],
   "source": [
    "def calculate_metrics(enhanced, ground_truth):\n",
    "    \"\"\"Calculate PSNR and SSIM metrics\"\"\"\n",
    "    # Load/preprocess ground truth\n",
    "    if isinstance(ground_truth, str):\n",
    "        gt = preprocess(ground_truth)\n",
    "    else:\n",
    "        gt = ground_truth.copy()\n",
    "    \n",
    "    # Ensure images are properly normalized [0,1]\n",
    "    enhanced = np.clip(enhanced, 0, 1)\n",
    "    gt = np.clip(gt, 0, 1)\n",
    "    \n",
    "    # Calculate metrics with explicit data range\n",
    "    psnr_val = psnr(gt, enhanced, data_range=1.0)\n",
    "    ssim_val = ssim(gt, enhanced, \n",
    "                    channel_axis=2,  # For RGB images\n",
    "                    data_range=1.0)   # Crucial for float images\n",
    "    \n",
    "    return {\"PSNR\": psnr_val, \"SSIM\": ssim_val}"
   ]
  },
  {
   "cell_type": "code",
   "execution_count": null,
   "metadata": {},
   "outputs": [],
   "source": []
  }
 ],
 "metadata": {
  "kernelspec": {
   "display_name": "Python (image_processing)",
   "language": "python",
   "name": "image_processing"
  },
  "language_info": {
   "codemirror_mode": {
    "name": "ipython",
    "version": 3
   },
   "file_extension": ".py",
   "mimetype": "text/x-python",
   "name": "python",
   "nbconvert_exporter": "python",
   "pygments_lexer": "ipython3",
   "version": "3.9.15"
  }
 },
 "nbformat": 4,
 "nbformat_minor": 2
}
